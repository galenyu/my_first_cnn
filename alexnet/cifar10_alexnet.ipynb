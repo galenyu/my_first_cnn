{
 "cells": [
  {
   "cell_type": "markdown",
   "metadata": {
    "colab_type": "text",
    "id": "x-_XqQOY5yUg"
   },
   "source": [
    "# AlexNet on CIFAR10 \n",
    "The goal of this notebook is to reimplement [AlexNet](https://papers.nips.cc/paper/4824-imagenet-classification-with-deep-convolutional-neural-networks.pdf)  on a 32x32 pixel dataset called CIFAR10. AlexNet is a Convolutional Neural Network Architecture developed by Alex Krizhevsky, and published with Ilya Sutskever and Krizhevsky's doctoral advisor Geoffrey Hinton. It won the [ImagNet large scale Visual Recognition Challange](https://en.wikipedia.org/wiki/ImageNet#ImageNet_Challenge) in September 2012.\n"
   ]
  },
  {
   "cell_type": "code",
   "execution_count": 0,
   "metadata": {
    "_cell_guid": "b1076dfc-b9ad-4769-8c92-a6c4dae69d19",
    "_uuid": "8f2839f25d086af736a60e9eeb907d3b93b6e0e5",
    "colab": {},
    "colab_type": "code",
    "id": "D8ftj-vs5yUi"
   },
   "outputs": [],
   "source": [
    "\n",
    "import numpy as np \n",
    "import pandas as pd\n",
    "import os\n"
   ]
  },
  {
   "cell_type": "code",
   "execution_count": 0,
   "metadata": {
    "_cell_guid": "79c7e3d0-c299-4dcb-8224-4455121ee9b0",
    "_uuid": "d629ff2d2480ee46fbb7e2d37f6b5fab8052498a",
    "colab": {},
    "colab_type": "code",
    "id": "RQItxk455yUp"
   },
   "outputs": [],
   "source": [
    "import torch.nn as nn\n",
    "import torchvision\n",
    "import torch.utils.data\n",
    "import torchvision.transforms as transforms\n",
    "import time"
   ]
  },
  {
   "cell_type": "markdown",
   "metadata": {
    "colab_type": "text",
    "id": "1uZc7vjv5yUu"
   },
   "source": [
    "### Transformations\n",
    "* I resize the images to 256 since AlexNet expects inputs of that size.\n",
    "* Perform Horizontal flips 50% of the time. This allows the model to recognize objects when they are facing the other direction too.\n",
    "* Make the images Tensors\n",
    "* Normalize the images. Now the stats I have below are the mean and standard deviations across all channels. I'll show below how I got them.\n"
   ]
  },
  {
   "cell_type": "code",
   "execution_count": 0,
   "metadata": {
    "colab": {},
    "colab_type": "code",
    "id": "mZJwYr9n5yUv"
   },
   "outputs": [],
   "source": [
    "transform= transforms.Compose(\n",
    "    [   transforms.Resize(256),\n",
    "     transforms.RandomHorizontalFlip(),\n",
    "    transforms.ToTensor(),\n",
    "     transforms.Normalize([0.49139968, 0.48215841, 0.44653091], [0.24703223 , 0.24348513, 0.26158784])\n",
    "    ])"
   ]
  },
  {
   "cell_type": "markdown",
   "metadata": {
    "colab_type": "text",
    "id": "Jqf-t_L25yU1"
   },
   "source": [
    "### Train and Test set"
   ]
  },
  {
   "cell_type": "code",
   "execution_count": 4,
   "metadata": {
    "colab": {
     "base_uri": "https://localhost:8080/",
     "height": 100,
     "referenced_widgets": [
      "073deb4f30134472acfcf491a4ceec51",
      "7cab411a0dbb4968aa07b8aa814c5935",
      "2377ef13315d414e8aa99ba215f3f422",
      "c471a5905828473fb168323bedc1543a",
      "20c2d622bbab483fa7b0fa59a177eb37",
      "01276ac21d1246069acb1520cdeb7d4a",
      "ab2b700ef0d646b2bf57193f83c7f166",
      "6a12089da1fe489596cbbfed6c4a95fb"
     ]
    },
    "colab_type": "code",
    "id": "VQWmmYT75yU2",
    "outputId": "e05de1f8-69de-4ddd-e01c-cbd9070c2716"
   },
   "outputs": [
    {
     "name": "stdout",
     "output_type": "stream",
     "text": [
      "Downloading https://www.cs.toronto.edu/~kriz/cifar-10-python.tar.gz to ./data/cifar-10-python.tar.gz\n"
     ]
    },
    {
     "data": {
      "application/vnd.jupyter.widget-view+json": {
       "model_id": "073deb4f30134472acfcf491a4ceec51",
       "version_major": 2,
       "version_minor": 0
      },
      "text/plain": [
       "HBox(children=(FloatProgress(value=1.0, bar_style='info', max=1.0), HTML(value='')))"
      ]
     },
     "metadata": {
      "tags": []
     },
     "output_type": "display_data"
    },
    {
     "name": "stdout",
     "output_type": "stream",
     "text": [
      "Extracting ./data/cifar-10-python.tar.gz to ./data\n",
      "Files already downloaded and verified\n"
     ]
    }
   ],
   "source": [
    "trainset= torchvision.datasets.CIFAR10(root='./data', train=True, transform=transform,\n",
    "                                      download=True)\n",
    "testset= torchvision.datasets.CIFAR10(root='./data', train=False, transform=transform,\n",
    "                                     download=True)"
   ]
  },
  {
   "cell_type": "code",
   "execution_count": 5,
   "metadata": {
    "colab": {
     "base_uri": "https://localhost:8080/",
     "height": 34
    },
    "colab_type": "code",
    "id": "wwWiGDYI5yU8",
    "outputId": "7b4d8b9c-6ab1-4ff0-c487-9f7d4d2beeb4"
   },
   "outputs": [
    {
     "data": {
      "text/plain": [
       "(50000, 32, 32, 3)"
      ]
     },
     "execution_count": 5,
     "metadata": {
      "tags": []
     },
     "output_type": "execute_result"
    }
   ],
   "source": [
    "trainset.data.shape"
   ]
  },
  {
   "cell_type": "markdown",
   "metadata": {
    "colab_type": "text",
    "id": "hSlfcEue5yVB"
   },
   "source": [
    "Below I get the mean and standard deviations of the pictures for each channel. These are the stats we use to normalize the images."
   ]
  },
  {
   "cell_type": "code",
   "execution_count": 6,
   "metadata": {
    "colab": {
     "base_uri": "https://localhost:8080/",
     "height": 34
    },
    "colab_type": "code",
    "id": "QmWtwMYC5yVC",
    "outputId": "76629d2a-3a40-4a13-ba2f-5c646a8b3c03"
   },
   "outputs": [
    {
     "data": {
      "text/plain": [
       "array([0.49139968, 0.48215841, 0.44653091])"
      ]
     },
     "execution_count": 6,
     "metadata": {
      "tags": []
     },
     "output_type": "execute_result"
    }
   ],
   "source": [
    "train_means= trainset.data.mean(axis=(0,1,2))/255\n",
    "train_means"
   ]
  },
  {
   "cell_type": "code",
   "execution_count": 7,
   "metadata": {
    "colab": {
     "base_uri": "https://localhost:8080/",
     "height": 34
    },
    "colab_type": "code",
    "id": "TSAdxu3I5yVH",
    "outputId": "3a7b8947-1dc9-4b80-9bea-fc7605a64b53"
   },
   "outputs": [
    {
     "data": {
      "text/plain": [
       "array([0.24703223, 0.24348513, 0.26158784])"
      ]
     },
     "execution_count": 7,
     "metadata": {
      "tags": []
     },
     "output_type": "execute_result"
    }
   ],
   "source": [
    "train_stds= trainset.data.std(axis=(0,1,2))/255\n",
    "train_stds"
   ]
  },
  {
   "cell_type": "markdown",
   "metadata": {
    "colab_type": "text",
    "id": "xBGhgfV-5yVM"
   },
   "source": [
    "### Dataloaders"
   ]
  },
  {
   "cell_type": "code",
   "execution_count": 0,
   "metadata": {
    "colab": {},
    "colab_type": "code",
    "id": "lmcU0Qz45yVN"
   },
   "outputs": [],
   "source": [
    "trainloader= torch.utils.data.DataLoader(trainset, batch_size=64, shuffle=True,\n",
    "                                        num_workers=8)\n",
    "testloader= torch.utils.data.DataLoader(testset, batch_size=64, shuffle=False,\n",
    "                                       num_workers=8)"
   ]
  },
  {
   "cell_type": "code",
   "execution_count": 0,
   "metadata": {
    "colab": {},
    "colab_type": "code",
    "id": "K3eqE03M5yVR"
   },
   "outputs": [],
   "source": [
    "classes = ('plane', 'car', 'bird', 'cat',\n",
    "           'deer', 'dog', 'frog', 'horse', 'ship', 'truck')"
   ]
  },
  {
   "cell_type": "markdown",
   "metadata": {
    "colab_type": "text",
    "id": "U_VoTfS05yVW"
   },
   "source": [
    "### Get a validation set from the training"
   ]
  },
  {
   "cell_type": "code",
   "execution_count": 0,
   "metadata": {
    "colab": {},
    "colab_type": "code",
    "id": "80npNmqI5yVX"
   },
   "outputs": [],
   "source": [
    "from torch.utils.data import Subset\n",
    "def train_valid_split(dl, val_split=0.25):\n",
    "    total_items= dl.dataset.data.shape[0]\n",
    "    idxs= np.random.permutation(total_items)\n",
    "    train_idxs, valid_idxs= idxs[round(total_items*val_split):], idxs[:round(total_items*val_split)]\n",
    "    \n",
    "    train= Subset(dl, train_idxs)\n",
    "    valid= Subset(dl, valid_idxs)\n",
    "    return train, valid"
   ]
  },
  {
   "cell_type": "code",
   "execution_count": 0,
   "metadata": {
    "colab": {},
    "colab_type": "code",
    "id": "16E6kQSV5yVc"
   },
   "outputs": [],
   "source": [
    "train_dl, valid_dl= train_valid_split(trainloader)"
   ]
  },
  {
   "cell_type": "markdown",
   "metadata": {
    "colab_type": "text",
    "id": "UdCLm4AF5yVh"
   },
   "source": [
    "## Show images"
   ]
  },
  {
   "cell_type": "code",
   "execution_count": 0,
   "metadata": {
    "colab": {},
    "colab_type": "code",
    "id": "sWc4UWCz5yVi"
   },
   "outputs": [],
   "source": [
    "import matplotlib.pyplot as plt\n",
    "def show_image(img):\n",
    "    img= img.numpy()\n",
    "    plt.imshow(np.transpose(img, (1, 2, 0)))\n",
    "    plt.show()\n",
    "    "
   ]
  },
  {
   "cell_type": "code",
   "execution_count": 13,
   "metadata": {
    "colab": {
     "base_uri": "https://localhost:8080/",
     "height": 153
    },
    "colab_type": "code",
    "id": "miQAZSWh5yVl",
    "outputId": "90c80e48-711f-4af9-e76d-a8c078f23821"
   },
   "outputs": [
    {
     "name": "stderr",
     "output_type": "stream",
     "text": [
      "Clipping input data to the valid range for imshow with RGB data ([0..1] for floats or [0..255] for integers).\n"
     ]
    },
    {
     "data": {
      "image/png": "[encoded data removed]",
      "text/plain": [
       "<Figure size 432x288 with 1 Axes>"
      ]
     },
     "metadata": {
      "needs_background": "light",
      "tags": []
     },
     "output_type": "display_data"
    }
   ],
   "source": [
    "# get some random training images\n",
    "dataiter = iter(trainloader)\n",
    "images, labels = dataiter.next()\n",
    "\n",
    "# show images\n",
    "show_image(torchvision.utils.make_grid(images[:4]))"
   ]
  },
  {
   "cell_type": "code",
   "execution_count": 14,
   "metadata": {
    "colab": {
     "base_uri": "https://localhost:8080/",
     "height": 34
    },
    "colab_type": "code",
    "id": "se1rXEsg5yVq",
    "outputId": "d5af7923-ab1a-4276-8352-c3790d98badb"
   },
   "outputs": [
    {
     "data": {
      "text/plain": [
       "['cat', 'horse', 'car', 'plane']"
      ]
     },
     "execution_count": 14,
     "metadata": {
      "tags": []
     },
     "output_type": "execute_result"
    }
   ],
   "source": [
    "[classes[each] for each in labels[:4]]"
   ]
  },
  {
   "cell_type": "markdown",
   "metadata": {
    "colab_type": "text",
    "id": "FJR9CQJ15yVv"
   },
   "source": [
    "## Model\n",
    "The model I use is [AlexNet](https://papers.nips.cc/paper/4824-imagenet-classification-with-deep-convolutional-neural-networks.pdf). It is the model which basically revolutionalized the space of Deep Learning and brought a lot of attention to this space of Image Classification.\n",
    "\n",
    "<img src='alex.png'>"
   ]
  },
  {
   "cell_type": "code",
   "execution_count": 15,
   "metadata": {
    "colab": {
     "base_uri": "https://localhost:8080/",
     "height": 34
    },
    "colab_type": "code",
    "id": "AP_obkxa5yVw",
    "outputId": "bc107e2e-56ca-49f8-a278-f281afe9211e"
   },
   "outputs": [
    {
     "name": "stdout",
     "output_type": "stream",
     "text": [
      "cuda:0\n"
     ]
    }
   ],
   "source": [
    "device = torch.device(\"cuda:0\" if torch.cuda.is_available() else \"cpu\")\n",
    "# trainloader.to(device);\n",
    "print(device)"
   ]
  },
  {
   "cell_type": "code",
   "execution_count": 0,
   "metadata": {
    "colab": {},
    "colab_type": "code",
    "id": "6asHLtXZ5yV0"
   },
   "outputs": [],
   "source": [
    "class AlexNet(nn.Module):\n",
    "    def __init__(self, num_classes=10):\n",
    "        super(AlexNet, self).__init__()\n",
    "        #1\n",
    "        self.features= nn.Sequential(\n",
    "        nn.Conv2d(3, 96, kernel_size=11, stride=4, padding=0),\n",
    "        nn.ReLU(inplace=True),\n",
    "        nn.MaxPool2d(kernel_size=3, stride=2),\n",
    "        #2\n",
    "        nn.Conv2d(96, 256, kernel_size=5, stride=1, padding=2),\n",
    "        nn.ReLU(inplace=True),\n",
    "        nn.MaxPool2d(kernel_size=3, stride=2),\n",
    "        #3\n",
    "        nn.Conv2d(256, 384, kernel_size=3, stride=1, padding=1),\n",
    "        nn.ReLU(inplace=True),\n",
    "        #4\n",
    "        nn.Conv2d(384, 384, kernel_size=3, stride=1, padding=1),\n",
    "        nn.ReLU(inplace=True),\n",
    "        #5\n",
    "        nn.Conv2d(384, 256, kernel_size=5, stride=1, padding=2),\n",
    "        nn.ReLU(inplace=True),\n",
    "        nn.MaxPool2d(kernel_size=3, stride=2),\n",
    "        )\n",
    "        self.avgpool= nn.AvgPool2d(6)\n",
    "        self.classifier= nn.Sequential(\n",
    "            nn.Dropout(), nn.Linear(256*6*6, 4096),\n",
    "        nn.ReLU(inplace=True), nn.Dropout(),\n",
    "        nn.Linear(4096, num_classes))\n",
    "        \n",
    "    def forward(self, x):\n",
    "        x= self.features(x)\n",
    "        x=x.view(x.size(0), 256*6*6)\n",
    "        x= self.classifier(x)\n",
    "        return x"
   ]
  },
  {
   "cell_type": "markdown",
   "metadata": {
    "colab_type": "text",
    "id": "KEPJZYZA5yV4"
   },
   "source": [
    "Put the model on the GPU"
   ]
  },
  {
   "cell_type": "code",
   "execution_count": 0,
   "metadata": {
    "colab": {},
    "colab_type": "code",
    "id": "1NsXTVu85yV4"
   },
   "outputs": [],
   "source": [
    "model= AlexNet(num_classes=10).to(device)"
   ]
  },
  {
   "cell_type": "code",
   "execution_count": 18,
   "metadata": {
    "colab": {
     "base_uri": "https://localhost:8080/",
     "height": 442
    },
    "colab_type": "code",
    "id": "3o6LRglF5yV8",
    "outputId": "7a830117-22a6-44c6-b2e9-25d7ef717b23"
   },
   "outputs": [
    {
     "data": {
      "text/plain": [
       "AlexNet(\n",
       "  (features): Sequential(\n",
       "    (0): Conv2d(3, 96, kernel_size=(11, 11), stride=(4, 4))\n",
       "    (1): ReLU(inplace=True)\n",
       "    (2): MaxPool2d(kernel_size=3, stride=2, padding=0, dilation=1, ceil_mode=False)\n",
       "    (3): Conv2d(96, 256, kernel_size=(5, 5), stride=(1, 1), padding=(2, 2))\n",
       "    (4): ReLU(inplace=True)\n",
       "    (5): MaxPool2d(kernel_size=3, stride=2, padding=0, dilation=1, ceil_mode=False)\n",
       "    (6): Conv2d(256, 384, kernel_size=(3, 3), stride=(1, 1), padding=(1, 1))\n",
       "    (7): ReLU(inplace=True)\n",
       "    (8): Conv2d(384, 384, kernel_size=(3, 3), stride=(1, 1), padding=(1, 1))\n",
       "    (9): ReLU(inplace=True)\n",
       "    (10): Conv2d(384, 256, kernel_size=(5, 5), stride=(1, 1), padding=(2, 2))\n",
       "    (11): ReLU(inplace=True)\n",
       "    (12): MaxPool2d(kernel_size=3, stride=2, padding=0, dilation=1, ceil_mode=False)\n",
       "  )\n",
       "  (avgpool): AvgPool2d(kernel_size=6, stride=6, padding=0)\n",
       "  (classifier): Sequential(\n",
       "    (0): Dropout(p=0.5, inplace=False)\n",
       "    (1): Linear(in_features=9216, out_features=4096, bias=True)\n",
       "    (2): ReLU(inplace=True)\n",
       "    (3): Dropout(p=0.5, inplace=False)\n",
       "    (4): Linear(in_features=4096, out_features=10, bias=True)\n",
       "  )\n",
       ")"
      ]
     },
     "execution_count": 18,
     "metadata": {
      "tags": []
     },
     "output_type": "execute_result"
    }
   ],
   "source": [
    "model"
   ]
  },
  {
   "cell_type": "code",
   "execution_count": 0,
   "metadata": {
    "colab": {},
    "colab_type": "code",
    "id": "m8kGLznc5yWA"
   },
   "outputs": [],
   "source": [
    "#loss function and optimizer\n",
    "criterion= nn.CrossEntropyLoss()\n",
    "optimizer= torch.optim.Adam(params= model.parameters(), lr=3e-4)"
   ]
  },
  {
   "cell_type": "markdown",
   "metadata": {
    "colab_type": "text",
    "id": "H6P84c-c5yWE"
   },
   "source": [
    "I create a function to convert seconds into a human friendly format of hours-minutes-seconds. This I will use to keep track of the training time."
   ]
  },
  {
   "cell_type": "code",
   "execution_count": 0,
   "metadata": {
    "colab": {},
    "colab_type": "code",
    "id": "zrhKiav85yWF"
   },
   "outputs": [],
   "source": [
    "import datetime\n",
    "\n",
    "def convert_seconds_format(n):\n",
    "    return str(datetime.timedelta(seconds =n))\n"
   ]
  },
  {
   "cell_type": "markdown",
   "metadata": {
    "colab_type": "text",
    "id": "EbsDPL9w5yWI"
   },
   "source": [
    "### training loop\n",
    "Lets go for 10 epochs and see how the model performs."
   ]
  },
  {
   "cell_type": "code",
   "execution_count": 21,
   "metadata": {
    "colab": {
     "base_uri": "https://localhost:8080/",
     "height": 578
    },
    "colab_type": "code",
    "id": "mShVPEIM5yWJ",
    "outputId": "9d597f90-41d5-4fb0-c85c-c77bc3c9d3a7"
   },
   "outputs": [
    {
     "name": "stdout",
     "output_type": "stream",
     "text": [
      "training starting...\n",
      "epoch 1, running loss: 1.503775739333999\n",
      "validation accuracy: 0.56704. validation loss: 0.8415064215660095\n",
      "epoch time: 0:03:17.394925\n",
      "epoch 2, running loss: 1.0263502903082307\n",
      "validation accuracy: 0.71976. validation loss: 1.1422035694122314\n",
      "epoch time: 0:03:19.258324\n",
      "epoch 3, running loss: 0.8228577061361906\n",
      "validation accuracy: 0.75634. validation loss: 0.4330838918685913\n",
      "epoch time: 0:03:18.524402\n",
      "epoch 4, running loss: 0.7034687055286769\n",
      "validation accuracy: 0.80434. validation loss: 0.7244868278503418\n",
      "epoch time: 0:03:19.108279\n",
      "epoch 5, running loss: 0.6209912771375781\n",
      "validation accuracy: 0.82354. validation loss: 0.6239148378372192\n",
      "epoch time: 0:03:18.334716\n",
      "epoch 6, running loss: 0.552196844401036\n",
      "validation accuracy: 0.84998. validation loss: 0.1226455420255661\n",
      "epoch time: 0:03:19.109137\n",
      "epoch 7, running loss: 0.5041998543904167\n",
      "validation accuracy: 0.863. validation loss: 0.5875811576843262\n",
      "epoch time: 0:03:20.478324\n",
      "epoch 8, running loss: 0.4569617440583001\n",
      "validation accuracy: 0.8861. validation loss: 0.5286064147949219\n",
      "epoch time: 0:03:20.088532\n",
      "epoch 9, running loss: 0.42646236507825447\n",
      "validation accuracy: 0.90596. validation loss: 0.2924897074699402\n",
      "epoch time: 0:03:20.207844\n",
      "epoch 10, running loss: 0.38566607906555855\n",
      "validation accuracy: 0.90698. validation loss: 0.5533671975135803\n",
      "epoch time: 0:03:19.907921\n",
      "training complete\n",
      "total time to train: 0:33:12.420663\n"
     ]
    }
   ],
   "source": [
    "all_losses=[]\n",
    "all_valid_losses=[]\n",
    "print('training starting...')\n",
    "start_time= time.time()\n",
    "for epoch in range(10):\n",
    "    epoch_start=time.time()\n",
    "    model.train()\n",
    "    running_loss= 0.0\n",
    "    running_valid_loss=0.0\n",
    "    predictions=[]\n",
    "    total=0\n",
    "    correct=0\n",
    "    \n",
    "    for i, data in enumerate(train_dl.dataset, 0):\n",
    "\n",
    "        inputs, labels= data[0].to(device), data[1].to(device)\n",
    "\n",
    "        #zero parameter gradients\n",
    "        optimizer.zero_grad()\n",
    "\n",
    "        #forward + back optimize\n",
    "        outputs= model(inputs)\n",
    "        loss= criterion(outputs, labels)\n",
    "        loss.backward()\n",
    "        optimizer.step()\n",
    "        \n",
    "        #stats\n",
    "        running_loss += loss.item()\n",
    "    all_losses.append(running_loss/i)\n",
    "    \n",
    "    #evaluation mode\n",
    "    model.eval()\n",
    "    with torch.no_grad():\n",
    "        for i, data in enumerate(valid_dl.dataset, 0):\n",
    "            inputs, labels= data[0].to(device), data[1].to(device)\n",
    "            outputs= model(inputs)\n",
    "            valid_loss= criterion(outputs, labels)\n",
    "            running_valid_loss+= valid_loss.item()\n",
    "            \n",
    "            #the class with the highest score\n",
    "            _, predicted= torch.max(outputs.data, 1)\n",
    "            predictions.append(outputs)\n",
    "            total+= labels.size(0)\n",
    "            correct+= (predicted==labels).sum().item()\n",
    "    epoch_end=time.time()\n",
    "    epoch_time= convert_seconds_format(epoch_end-epoch_start)\n",
    "    \n",
    "    all_valid_losses.append(valid_loss)\n",
    "    print(f\"epoch {epoch+1}, running loss: {all_losses[-1]}\")\n",
    "    print(f\"validation accuracy: {correct/total}. validation loss: {all_valid_losses[-1]}\")\n",
    "    print(f\"epoch time: {epoch_time}\")\n",
    "end_time= time.time()\n",
    "train_time= convert_seconds_format(end_time- start_time)\n",
    "print('training complete')\n",
    "print(f\"total time to train: {train_time}\")"
   ]
  },
  {
   "cell_type": "markdown",
   "metadata": {
    "colab_type": "text",
    "id": "PJPX1kbJ5yWP"
   },
   "source": [
    "After 37 minutes of training, the moodel gets an accuracy of about 90% on the training set. Thanks Alex."
   ]
  },
  {
   "cell_type": "code",
   "execution_count": 22,
   "metadata": {
    "colab": {
     "base_uri": "https://localhost:8080/",
     "height": 34
    },
    "colab_type": "code",
    "id": "Nt_4MCI25yWQ",
    "outputId": "5973c428-2364-4ac2-b32e-6de72be6ca98"
   },
   "outputs": [
    {
     "data": {
      "text/plain": [
       "[1, 2, 3, 4, 5, 6, 7, 8, 9, 10]"
      ]
     },
     "execution_count": 22,
     "metadata": {
      "tags": []
     },
     "output_type": "execute_result"
    }
   ],
   "source": [
    "\n",
    "x_axis=[i for i in range(1, 11)]\n",
    "x_axis"
   ]
  },
  {
   "cell_type": "code",
   "execution_count": 0,
   "metadata": {
    "colab": {},
    "colab_type": "code",
    "id": "bKSl-kEp5yWV"
   },
   "outputs": [],
   "source": [
    "valid_losses_list=[each.item() for each in all_valid_losses]\n",
    "    "
   ]
  },
  {
   "cell_type": "markdown",
   "metadata": {
    "colab_type": "text",
    "id": "I-rapaqc5yWZ"
   },
   "source": [
    "Below I plot the losses from the train and validation set over 10 epochs."
   ]
  },
  {
   "cell_type": "code",
   "execution_count": 24,
   "metadata": {
    "colab": {
     "base_uri": "https://localhost:8080/",
     "height": 279
    },
    "colab_type": "code",
    "id": "kJHDOPrX5yWa",
    "outputId": "b8ecc2c4-7426-4878-f432-d6c82f82701b"
   },
   "outputs": [
    {
     "data": {
      "image/png": "[encoded data removed]",
      "text/plain": [
       "<Figure size 432x288 with 1 Axes>"
      ]
     },
     "metadata": {
      "needs_background": "light",
      "tags": []
     },
     "output_type": "display_data"
    }
   ],
   "source": [
    "plt.plot(x_axis, all_losses, label='train')\n",
    "plt.plot(x_axis, valid_losses_list, label='valid')\n",
    "plt.ylabel('loss')\n",
    "plt.xlabel('epoch')\n",
    "plt.legend();"
   ]
  },
  {
   "cell_type": "code",
   "execution_count": 0,
   "metadata": {
    "colab": {},
    "colab_type": "code",
    "id": "8ztVN-TN5yWe"
   },
   "outputs": [],
   "source": [
    "correct, total=0, 0\n",
    "predictions=[]\n"
   ]
  },
  {
   "cell_type": "code",
   "execution_count": 0,
   "metadata": {
    "colab": {},
    "colab_type": "code",
    "id": "GiESOgJf5yWj"
   },
   "outputs": [],
   "source": [
    "model.eval();\n",
    "with torch.no_grad():\n",
    "    for i, data in enumerate(testloader, 0):\n",
    "        inputs, labels= data[0].to(device), data[1].to(device)\n",
    "        #inputs= inputs.view(-1, 32*32*3)\n",
    "        outputs= model(inputs)\n",
    "        #the class with the highest score\n",
    "        _, predicted= torch.max(outputs.data, 1)\n",
    "        predictions.append(outputs)\n",
    "        total+= labels.size(0)\n",
    "        correct+= (predicted==labels).sum().item()"
   ]
  },
  {
   "cell_type": "code",
   "execution_count": 27,
   "metadata": {
    "colab": {
     "base_uri": "https://localhost:8080/",
     "height": 34
    },
    "colab_type": "code",
    "id": "eDZrj46n5yWn",
    "outputId": "8f903176-fab0-496d-da6e-db1f0e1afcbb"
   },
   "outputs": [
    {
     "name": "stdout",
     "output_type": "stream",
     "text": [
      " Accuracy score of: 0.8205\n"
     ]
    }
   ],
   "source": [
    "print(f' Accuracy score of: {correct/total}')\n"
   ]
  },
  {
   "cell_type": "markdown",
   "metadata": {
    "colab_type": "text",
    "id": "TCr75g3s5yWr"
   },
   "source": [
    "On the testing data, the model is correct 82% of the time. This is really impressive of our model having built it from scratch. \n",
    "\n",
    "\n"
   ]
  },
  {
   "cell_type": "markdown",
   "metadata": {
    "colab_type": "text",
    "id": "v3_xHEab5yWs"
   },
   "source": [
    "### Conclusion\n",
    "After having reimplemented the AlexNet paper, I am glad it gets a great perfomance at classifying images on CIFAR10 datset. At the time of writing, the best model gets 96.53%, [as seen here](https://rodrigob.github.io/are_we_there_yet/build/classification_datasets_results.html#43494641522d3130), which has a better architecture and tricks to improve model perfomance.\n",
    "\n",
    "Please reach out to me if you spot something I might have missed as I am also still learning."
   ]
  }
 ],
 "metadata": {
  "accelerator": "GPU",
  "colab": {
   "name": "cifar10-alexnet.ipynb",
   "provenance": []
  },
  "kernelspec": {
   "display_name": "Python 3",
   "language": "python",
   "name": "python3"
  },
  "language_info": {
   "codemirror_mode": {
    "name": "ipython",
    "version": 3
   },
   "file_extension": ".py",
   "mimetype": "text/x-python",
   "name": "python",
   "nbconvert_exporter": "python",
   "pygments_lexer": "ipython3",
   "version": "3.7.3"
  },
  "widgets": {
   "application/vnd.jupyter.widget-state+json": {
    "01276ac21d1246069acb1520cdeb7d4a": {
     "model_module": "@jupyter-widgets/base",
     "model_name": "LayoutModel",
     "state": {
      "_model_module": "@jupyter-widgets/base",
      "_model_module_version": "1.2.0",
      "_model_name": "LayoutModel",
      "_view_count": null,
      "_view_module": "@jupyter-widgets/base",
      "_view_module_version": "1.2.0",
      "_view_name": "LayoutView",
      "align_content": null,
      "align_items": null,
      "align_self": null,
      "border": null,
      "bottom": null,
      "display": null,
      "flex": null,
      "flex_flow": null,
      "grid_area": null,
      "grid_auto_columns": null,
      "grid_auto_flow": null,
      "grid_auto_rows": null,
      "grid_column": null,
      "grid_gap": null,
      "grid_row": null,
      "grid_template_areas": null,
      "grid_template_columns": null,
      "grid_template_rows": null,
      "height": null,
      "justify_content": null,
      "justify_items": null,
      "left": null,
      "margin": null,
      "max_height": null,
      "max_width": null,
      "min_height": null,
      "min_width": null,
      "object_fit": null,
      "object_position": null,
      "order": null,
      "overflow": null,
      "overflow_x": null,
      "overflow_y": null,
      "padding": null,
      "right": null,
      "top": null,
      "visibility": null,
      "width": null
     }
    },
    "073deb4f30134472acfcf491a4ceec51": {
     "model_module": "@jupyter-widgets/controls",
     "model_name": "HBoxModel",
     "state": {
      "_dom_classes": [],
      "_model_module": "@jupyter-widgets/controls",
      "_model_module_version": "1.5.0",
      "_model_name": "HBoxModel",
      "_view_count": null,
      "_view_module": "@jupyter-widgets/controls",
      "_view_module_version": "1.5.0",
      "_view_name": "HBoxView",
      "box_style": "",
      "children": [
       "IPY_MODEL_2377ef13315d414e8aa99ba215f3f422",
       "IPY_MODEL_c471a5905828473fb168323bedc1543a"
      ],
      "layout": "IPY_MODEL_7cab411a0dbb4968aa07b8aa814c5935"
     }
    },
    "20c2d622bbab483fa7b0fa59a177eb37": {
     "model_module": "@jupyter-widgets/controls",
     "model_name": "ProgressStyleModel",
     "state": {
      "_model_module": "@jupyter-widgets/controls",
      "_model_module_version": "1.5.0",
      "_model_name": "ProgressStyleModel",
      "_view_count": null,
      "_view_module": "@jupyter-widgets/base",
      "_view_module_version": "1.2.0",
      "_view_name": "StyleView",
      "bar_color": null,
      "description_width": "initial"
     }
    },
    "2377ef13315d414e8aa99ba215f3f422": {
     "model_module": "@jupyter-widgets/controls",
     "model_name": "FloatProgressModel",
     "state": {
      "_dom_classes": [],
      "_model_module": "@jupyter-widgets/controls",
      "_model_module_version": "1.5.0",
      "_model_name": "FloatProgressModel",
      "_view_count": null,
      "_view_module": "@jupyter-widgets/controls",
      "_view_module_version": "1.5.0",
      "_view_name": "ProgressView",
      "bar_style": "info",
      "description": "",
      "description_tooltip": null,
      "layout": "IPY_MODEL_01276ac21d1246069acb1520cdeb7d4a",
      "max": 1,
      "min": 0,
      "orientation": "horizontal",
      "style": "IPY_MODEL_20c2d622bbab483fa7b0fa59a177eb37",
      "value": 1
     }
    },
    "6a12089da1fe489596cbbfed6c4a95fb": {
     "model_module": "@jupyter-widgets/base",
     "model_name": "LayoutModel",
     "state": {
      "_model_module": "@jupyter-widgets/base",
      "_model_module_version": "1.2.0",
      "_model_name": "LayoutModel",
      "_view_count": null,
      "_view_module": "@jupyter-widgets/base",
      "_view_module_version": "1.2.0",
      "_view_name": "LayoutView",
      "align_content": null,
      "align_items": null,
      "align_self": null,
      "border": null,
      "bottom": null,
      "display": null,
      "flex": null,
      "flex_flow": null,
      "grid_area": null,
      "grid_auto_columns": null,
      "grid_auto_flow": null,
      "grid_auto_rows": null,
      "grid_column": null,
      "grid_gap": null,
      "grid_row": null,
      "grid_template_areas": null,
      "grid_template_columns": null,
      "grid_template_rows": null,
      "height": null,
      "justify_content": null,
      "justify_items": null,
      "left": null,
      "margin": null,
      "max_height": null,
      "max_width": null,
      "min_height": null,
      "min_width": null,
      "object_fit": null,
      "object_position": null,
      "order": null,
      "overflow": null,
      "overflow_x": null,
      "overflow_y": null,
      "padding": null,
      "right": null,
      "top": null,
      "visibility": null,
      "width": null
     }
    },
    "7cab411a0dbb4968aa07b8aa814c5935": {
     "model_module": "@jupyter-widgets/base",
     "model_name": "LayoutModel",
     "state": {
      "_model_module": "@jupyter-widgets/base",
      "_model_module_version": "1.2.0",
      "_model_name": "LayoutModel",
      "_view_count": null,
      "_view_module": "@jupyter-widgets/base",
      "_view_module_version": "1.2.0",
      "_view_name": "LayoutView",
      "align_content": null,
      "align_items": null,
      "align_self": null,
      "border": null,
      "bottom": null,
      "display": null,
      "flex": null,
      "flex_flow": null,
      "grid_area": null,
      "grid_auto_columns": null,
      "grid_auto_flow": null,
      "grid_auto_rows": null,
      "grid_column": null,
      "grid_gap": null,
      "grid_row": null,
      "grid_template_areas": null,
      "grid_template_columns": null,
      "grid_template_rows": null,
      "height": null,
      "justify_content": null,
      "justify_items": null,
      "left": null,
      "margin": null,
      "max_height": null,
      "max_width": null,
      "min_height": null,
      "min_width": null,
      "object_fit": null,
      "object_position": null,
      "order": null,
      "overflow": null,
      "overflow_x": null,
      "overflow_y": null,
      "padding": null,
      "right": null,
      "top": null,
      "visibility": null,
      "width": null
     }
    },
    "ab2b700ef0d646b2bf57193f83c7f166": {
     "model_module": "@jupyter-widgets/controls",
     "model_name": "DescriptionStyleModel",
     "state": {
      "_model_module": "@jupyter-widgets/controls",
      "_model_module_version": "1.5.0",
      "_model_name": "DescriptionStyleModel",
      "_view_count": null,
      "_view_module": "@jupyter-widgets/base",
      "_view_module_version": "1.2.0",
      "_view_name": "StyleView",
      "description_width": ""
     }
    },
    "c471a5905828473fb168323bedc1543a": {
     "model_module": "@jupyter-widgets/controls",
     "model_name": "HTMLModel",
     "state": {
      "_dom_classes": [],
      "_model_module": "@jupyter-widgets/controls",
      "_model_module_version": "1.5.0",
      "_model_name": "HTMLModel",
      "_view_count": null,
      "_view_module": "@jupyter-widgets/controls",
      "_view_module_version": "1.5.0",
      "_view_name": "HTMLView",
      "description": "",
      "description_tooltip": null,
      "layout": "IPY_MODEL_6a12089da1fe489596cbbfed6c4a95fb",
      "placeholder": "​",
      "style": "IPY_MODEL_ab2b700ef0d646b2bf57193f83c7f166",
      "value": " 170500096/? [00:20&lt;00:00, 83852011.28it/s]"
     }
    }
   }
  }
 },
 "nbformat": 4,
 "nbformat_minor": 1
}
